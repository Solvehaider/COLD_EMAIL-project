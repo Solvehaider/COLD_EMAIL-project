{
 "cells": [
  {
   "cell_type": "code",
   "execution_count": 1,
   "metadata": {},
   "outputs": [
    {
     "name": "stderr",
     "output_type": "stream",
     "text": [
      "USER_AGENT environment variable not set, consider setting it to identify your requests.\n"
     ]
    },
    {
     "data": {
      "text/plain": [
       "True"
      ]
     },
     "execution_count": 1,
     "metadata": {},
     "output_type": "execute_result"
    }
   ],
   "source": [
    "from dotenv import load_dotenv\n",
    "import os\n",
    "from astrapy import DataAPIClient\n",
    "from langchain_community.document_loaders import WebBaseLoader\n",
    "\n",
    "load_dotenv()\n"
   ]
  },
  {
   "cell_type": "code",
   "execution_count": 2,
   "metadata": {},
   "outputs": [],
   "source": [
    "os.environ['GROQ_API_KEY']=os.getenv('GROQ_API_KEY')\n"
   ]
  },
  {
   "cell_type": "markdown",
   "metadata": {},
   "source": [
    "Initializing LLM"
   ]
  },
  {
   "cell_type": "code",
   "execution_count": 3,
   "metadata": {},
   "outputs": [],
   "source": [
    "from langchain_groq import ChatGroq\n",
    "\n",
    "llm = ChatGroq(\n",
    "    model=\"llama3-8b-8192\",\n",
    "    temperature=0.2,\n",
    "    max_retries=2,\n",
    "\n",
    ")"
   ]
  },
  {
   "cell_type": "code",
   "execution_count": 4,
   "metadata": {},
   "outputs": [
    {
     "data": {
      "text/plain": [
       "AIMessage(content='Let me tell you about the flag of Japan!\\n\\nThe flag of Japan, also known as the Nisshoki, is a white rectangular flag with a large red disk (representing the sun) in the center. The flag is also known as the \"Rising Sun\" flag, and it has been the national flag of Japan since 1870.\\n\\nThe design of the flag is based on the ancient Japanese symbol of the sun, which was used by the Japanese Empire during the 16th century. The red disk represents the sun, while the white background represents the purity and innocence of the Japanese people.\\n\\nThe flag has undergone several changes throughout its history. In the early 20th century, the flag was modified to include a blue triangle at the hoist side, but this design was abandoned in 1945 after Japan\\'s defeat in World War II. The current design, with the red disk on a white background, has been used since 1870.\\n\\nThe flag is an important symbol of Japanese identity and is often displayed at government buildings, schools, and other public institutions. It is also used as a symbol of national pride and is often displayed during national holidays and ceremonies.\\n\\nInterestingly, the flag has been the subject of controversy in recent years, with some countries and organizations objecting to its use due to its association with Japan\\'s military past and its use during World War II. However, the Japanese government has maintained that the flag is a symbol of national identity and has no connection to militarism or aggression.\\n\\nOverall, the flag of Japan is an important symbol of Japanese culture and identity, and its design and history are steeped in tradition and significance.', response_metadata={'token_usage': {'completion_tokens': 336, 'prompt_tokens': 15, 'total_tokens': 351, 'completion_time': 0.28, 'prompt_time': 0.001669834, 'queue_time': 0.012799396, 'total_time': 0.281669834}, 'model_name': 'llama3-8b-8192', 'system_fingerprint': 'fp_a97cfe35ae', 'finish_reason': 'stop', 'logprobs': None}, id='run-30e756c9-7db3-4ab2-9963-54fb8ffc2a5c-0', usage_metadata={'input_tokens': 15, 'output_tokens': 336, 'total_tokens': 351})"
      ]
     },
     "execution_count": 4,
     "metadata": {},
     "output_type": "execute_result"
    }
   ],
   "source": [
    "llm.invoke(\"tell me about a flag\")"
   ]
  },
  {
   "cell_type": "markdown",
   "metadata": {},
   "source": [
    "Load the Job Content from the website"
   ]
  },
  {
   "cell_type": "code",
   "execution_count": 75,
   "metadata": {},
   "outputs": [
    {
     "data": {
      "text/plain": [
       "[Document(metadata={'source': 'https://jobs.tkxel.com/jobs/Careers/524295000024517645/Senior-Software-Engineer-Python-Ben?source=CareerSite', 'title': 'Tkxel - Senior Software Engineer Python/Ben in Lahore', 'description': 'Tkxel - Develop, and maintain efficient, reusable code using Python. - Must have worked on different frameworks like Django, Flask etc. - Strong under', 'language': 'en'}, page_content='\\nTkxel - Senior Software Engineer Python/Ben in Lahore\\n')]"
      ]
     },
     "execution_count": 75,
     "metadata": {},
     "output_type": "execute_result"
    }
   ],
   "source": [
    "loader =WebBaseLoader(\"https://jobs.tkxel.com/jobs/Careers/524295000024517645/Senior-Software-Engineer-Python-Ben?source=CareerSite\")\n",
    "page_data=loader.load()\n",
    "page_data"
   ]
  },
  {
   "cell_type": "code",
   "execution_count": 78,
   "metadata": {},
   "outputs": [],
   "source": [
    "document_string = str(page_data)"
   ]
  },
  {
   "cell_type": "markdown",
   "metadata": {},
   "source": [
    "Prompt template for extracting information"
   ]
  },
  {
   "cell_type": "code",
   "execution_count": 91,
   "metadata": {},
   "outputs": [],
   "source": [
    "from langchain_core.prompts import ChatPromptTemplate\n",
    "prompt = ChatPromptTemplate.from_template(\n",
    "       \"\"\"\n",
    "        ### SCRAPED TEXT FROM WEBSITE:\n",
    "        {page_data}\n",
    "        ### INSTRUCTION:\n",
    "        The scraped text is from the career's page of a website.\n",
    "        Your job is to extract the job postings and return them in Just JSON format \n",
    "        'Role':\n",
    "        'skills':\n",
    "        'description':\n",
    "        Wrap one job opening in a single object.\n",
    "        Only return the valid JSON.\n",
    "        ### VALID JSON (NO PREAMBLE):    \n",
    "        \"\"\"\n",
    ")"
   ]
  },
  {
   "cell_type": "markdown",
   "metadata": {},
   "source": [
    "Chaining the above process"
   ]
  },
  {
   "cell_type": "code",
   "execution_count": 98,
   "metadata": {},
   "outputs": [],
   "source": [
    "chain_extract = prompt | llm \n",
    "res = chain_extract.invoke(input={'page_data':page_data})\n",
    "# type(res.content)"
   ]
  },
  {
   "cell_type": "code",
   "execution_count": 104,
   "metadata": {},
   "outputs": [],
   "source": [
    "response=res.content"
   ]
  },
  {
   "cell_type": "markdown",
   "metadata": {},
   "source": [
    "Parsing the output"
   ]
  },
  {
   "cell_type": "code",
   "execution_count": 106,
   "metadata": {},
   "outputs": [
    {
     "data": {
      "text/plain": [
       "{'Role': 'Senior Software Engineer Python/Ben',\n",
       " 'Skills': ['Python', 'Django', 'Flask'],\n",
       " 'Description': 'Develop, and maintain efficient, reusable code using Python. Must have worked on different frameworks like Django, Flask etc. Strong understanding of Python and its ecosystem.'}"
      ]
     },
     "execution_count": 106,
     "metadata": {},
     "output_type": "execute_result"
    }
   ],
   "source": [
    "from langchain_core.output_parsers import JsonOutputParser\n",
    "\n",
    "json_parser = JsonOutputParser()\n",
    "json_res = json_parser.parse(response)\n",
    "json_res"
   ]
  },
  {
   "cell_type": "code",
   "execution_count": 108,
   "metadata": {},
   "outputs": [
    {
     "data": {
      "text/plain": [
       "dict"
      ]
     },
     "execution_count": 108,
     "metadata": {},
     "output_type": "execute_result"
    }
   ],
   "source": [
    "type(json_res)"
   ]
  },
  {
   "cell_type": "code",
   "execution_count": 109,
   "metadata": {},
   "outputs": [],
   "source": [
    "job=json_res"
   ]
  },
  {
   "cell_type": "code",
   "execution_count": 107,
   "metadata": {},
   "outputs": [
    {
     "data": {
      "text/plain": [
       "['Python', 'Django', 'Flask']"
      ]
     },
     "execution_count": 107,
     "metadata": {},
     "output_type": "execute_result"
    }
   ],
   "source": [
    "# type(json_res)\n",
    "json_res['Skills']"
   ]
  },
  {
   "cell_type": "code",
   "execution_count": 43,
   "metadata": {},
   "outputs": [
    {
     "data": {
      "text/html": [
       "<div>\n",
       "<style scoped>\n",
       "    .dataframe tbody tr th:only-of-type {\n",
       "        vertical-align: middle;\n",
       "    }\n",
       "\n",
       "    .dataframe tbody tr th {\n",
       "        vertical-align: top;\n",
       "    }\n",
       "\n",
       "    .dataframe thead th {\n",
       "        text-align: right;\n",
       "    }\n",
       "</style>\n",
       "<table border=\"1\" class=\"dataframe\">\n",
       "  <thead>\n",
       "    <tr style=\"text-align: right;\">\n",
       "      <th></th>\n",
       "      <th>Techstack</th>\n",
       "      <th>Links</th>\n",
       "    </tr>\n",
       "  </thead>\n",
       "  <tbody>\n",
       "    <tr>\n",
       "      <th>0</th>\n",
       "      <td>React, Node.js, MongoDB</td>\n",
       "      <td>https://example.com/react-portfolio</td>\n",
       "    </tr>\n",
       "    <tr>\n",
       "      <th>1</th>\n",
       "      <td>Angular,.NET, SQL Server</td>\n",
       "      <td>https://example.com/angular-portfolio</td>\n",
       "    </tr>\n",
       "    <tr>\n",
       "      <th>2</th>\n",
       "      <td>Vue.js, Ruby on Rails, PostgreSQL</td>\n",
       "      <td>https://example.com/vue-portfolio</td>\n",
       "    </tr>\n",
       "    <tr>\n",
       "      <th>3</th>\n",
       "      <td>Python, Django, MySQL</td>\n",
       "      <td>https://example.com/python-portfolio</td>\n",
       "    </tr>\n",
       "    <tr>\n",
       "      <th>4</th>\n",
       "      <td>Java, Spring Boot, Oracle</td>\n",
       "      <td>https://example.com/java-portfolio</td>\n",
       "    </tr>\n",
       "    <tr>\n",
       "      <th>5</th>\n",
       "      <td>Flutter, Firebase, GraphQL</td>\n",
       "      <td>https://example.com/flutter-portfolio</td>\n",
       "    </tr>\n",
       "    <tr>\n",
       "      <th>6</th>\n",
       "      <td>WordPress, PHP, MySQL</td>\n",
       "      <td>https://example.com/wordpress-portfolio</td>\n",
       "    </tr>\n",
       "    <tr>\n",
       "      <th>7</th>\n",
       "      <td>Magento, PHP, MySQL</td>\n",
       "      <td>https://example.com/magento-portfolio</td>\n",
       "    </tr>\n",
       "    <tr>\n",
       "      <th>8</th>\n",
       "      <td>React Native, Node.js, MongoDB</td>\n",
       "      <td>https://example.com/react-native-portfolio</td>\n",
       "    </tr>\n",
       "    <tr>\n",
       "      <th>9</th>\n",
       "      <td>iOS, Swift, Core Data</td>\n",
       "      <td>https://example.com/ios-portfolio</td>\n",
       "    </tr>\n",
       "    <tr>\n",
       "      <th>10</th>\n",
       "      <td>Android, Java, Room Persistence</td>\n",
       "      <td>https://example.com/android-portfolio</td>\n",
       "    </tr>\n",
       "    <tr>\n",
       "      <th>11</th>\n",
       "      <td>Kotlin, Android, Firebase</td>\n",
       "      <td>https://example.com/kotlin-android-portfolio</td>\n",
       "    </tr>\n",
       "    <tr>\n",
       "      <th>12</th>\n",
       "      <td>Android TV, Kotlin, Android NDK</td>\n",
       "      <td>https://example.com/android-tv-portfolio</td>\n",
       "    </tr>\n",
       "    <tr>\n",
       "      <th>13</th>\n",
       "      <td>iOS, Swift, ARKit</td>\n",
       "      <td>https://example.com/ios-ar-portfolio</td>\n",
       "    </tr>\n",
       "    <tr>\n",
       "      <th>14</th>\n",
       "      <td>Cross-platform, Xamarin, Azure</td>\n",
       "      <td>https://example.com/xamarin-portfolio</td>\n",
       "    </tr>\n",
       "    <tr>\n",
       "      <th>15</th>\n",
       "      <td>Backend, Kotlin, Spring Boot</td>\n",
       "      <td>https://example.com/kotlin-backend-portfolio</td>\n",
       "    </tr>\n",
       "    <tr>\n",
       "      <th>16</th>\n",
       "      <td>Frontend, TypeScript, Angular</td>\n",
       "      <td>https://example.com/typescript-frontend-portfolio</td>\n",
       "    </tr>\n",
       "    <tr>\n",
       "      <th>17</th>\n",
       "      <td>Full-stack, JavaScript, Express.js</td>\n",
       "      <td>https://example.com/full-stack-js-portfolio</td>\n",
       "    </tr>\n",
       "    <tr>\n",
       "      <th>18</th>\n",
       "      <td>Machine Learning, Python, TensorFlow</td>\n",
       "      <td>https://example.com/ml-python-portfolio</td>\n",
       "    </tr>\n",
       "    <tr>\n",
       "      <th>19</th>\n",
       "      <td>DevOps, Jenkins, Docker</td>\n",
       "      <td>https://example.com/devops-portfolio</td>\n",
       "    </tr>\n",
       "  </tbody>\n",
       "</table>\n",
       "</div>"
      ],
      "text/plain": [
       "                               Techstack  \\\n",
       "0                React, Node.js, MongoDB   \n",
       "1               Angular,.NET, SQL Server   \n",
       "2      Vue.js, Ruby on Rails, PostgreSQL   \n",
       "3                  Python, Django, MySQL   \n",
       "4              Java, Spring Boot, Oracle   \n",
       "5             Flutter, Firebase, GraphQL   \n",
       "6                  WordPress, PHP, MySQL   \n",
       "7                    Magento, PHP, MySQL   \n",
       "8         React Native, Node.js, MongoDB   \n",
       "9                  iOS, Swift, Core Data   \n",
       "10       Android, Java, Room Persistence   \n",
       "11             Kotlin, Android, Firebase   \n",
       "12       Android TV, Kotlin, Android NDK   \n",
       "13                     iOS, Swift, ARKit   \n",
       "14        Cross-platform, Xamarin, Azure   \n",
       "15          Backend, Kotlin, Spring Boot   \n",
       "16         Frontend, TypeScript, Angular   \n",
       "17    Full-stack, JavaScript, Express.js   \n",
       "18  Machine Learning, Python, TensorFlow   \n",
       "19               DevOps, Jenkins, Docker   \n",
       "\n",
       "                                                Links  \n",
       "0                 https://example.com/react-portfolio  \n",
       "1               https://example.com/angular-portfolio  \n",
       "2                   https://example.com/vue-portfolio  \n",
       "3                https://example.com/python-portfolio  \n",
       "4                  https://example.com/java-portfolio  \n",
       "5               https://example.com/flutter-portfolio  \n",
       "6             https://example.com/wordpress-portfolio  \n",
       "7               https://example.com/magento-portfolio  \n",
       "8          https://example.com/react-native-portfolio  \n",
       "9                   https://example.com/ios-portfolio  \n",
       "10              https://example.com/android-portfolio  \n",
       "11       https://example.com/kotlin-android-portfolio  \n",
       "12           https://example.com/android-tv-portfolio  \n",
       "13               https://example.com/ios-ar-portfolio  \n",
       "14              https://example.com/xamarin-portfolio  \n",
       "15       https://example.com/kotlin-backend-portfolio  \n",
       "16  https://example.com/typescript-frontend-portfolio  \n",
       "17        https://example.com/full-stack-js-portfolio  \n",
       "18            https://example.com/ml-python-portfolio  \n",
       "19               https://example.com/devops-portfolio  "
      ]
     },
     "execution_count": 43,
     "metadata": {},
     "output_type": "execute_result"
    }
   ],
   "source": [
    "import pandas as pd\n",
    "\n",
    "df = pd.read_csv(\"my_portfolio.csv\")\n",
    "df"
   ]
  },
  {
   "cell_type": "markdown",
   "metadata": {},
   "source": [
    "# AstraDB"
   ]
  },
  {
   "cell_type": "code",
   "execution_count": 44,
   "metadata": {},
   "outputs": [],
   "source": [
    "from langchain_core.embeddings import FakeEmbeddings\n",
    "\n",
    "embeddings = FakeEmbeddings(size=1536)"
   ]
  },
  {
   "cell_type": "code",
   "execution_count": 45,
   "metadata": {},
   "outputs": [],
   "source": [
    "ASTRA_DB_API_ENDPOINT=\"<ur endpoint>\"\n",
    "ASTRA_DB_APPLICATION_TOKEN=\"<ur token>\"\n",
    "ASTRA_DB_NAMESPACE=\"<name>\""
   ]
  },
  {
   "cell_type": "code",
   "execution_count": 118,
   "metadata": {},
   "outputs": [],
   "source": [
    "from langchain_astradb import AstraDBVectorStore\n",
    "\n",
    "vector_store = AstraDBVectorStore(\n",
    "    collection_name=\"<collection name>\",\n",
    "    embedding=embeddings,\n",
    "    api_endpoint=ASTRA_DB_API_ENDPOINT,\n",
    "    token=ASTRA_DB_APPLICATION_TOKEN,\n",
    "    namespace=ASTRA_DB_NAMESPACE,\n",
    ")"
   ]
  },
  {
   "cell_type": "code",
   "execution_count": 46,
   "metadata": {},
   "outputs": [],
   "source": [
    "from uuid import uuid4\n",
    "\n",
    "from langchain_core.documents import Document"
   ]
  },
  {
   "cell_type": "code",
   "execution_count": 119,
   "metadata": {},
   "outputs": [
    {
     "data": {
      "text/plain": [
       "['b050fb34-ee21-41f9-8498-62564b10f61d',\n",
       " '4ca7ca80-2451-4871-9fa3-22935fe1e0ef',\n",
       " '7a985179-8f17-40cf-844d-fc6dad635d09',\n",
       " '11077f02-fdc4-4656-8d10-2825f54a9a73',\n",
       " '52400516-9c7f-4bb1-ad46-24223e00aac6',\n",
       " 'c92449a2-2167-4dc9-9e19-39dc6b719d52',\n",
       " 'b26b43bc-6be5-4a39-b176-f6080829772d',\n",
       " '432ce81f-3f34-4c52-8a1f-b33d6c3a5061',\n",
       " '8693c58f-e012-4d9b-a9fe-8a1110af9f40',\n",
       " '7c1b2814-c722-44a6-9108-2f10fb7e731a',\n",
       " 'a9e556a6-68e1-41e3-b28c-f654eb785431',\n",
       " '1d0ddfce-8cbd-4b1f-8877-63a01de96224',\n",
       " '2556542d-cf40-4d40-81e4-ae7871e6e655',\n",
       " '46f6a1f9-f7f7-4846-ae39-f68ac449b273',\n",
       " 'd926db9a-3c6f-468a-b52e-38acb3f13259',\n",
       " 'bfe6da58-1e69-486f-ae87-167814b9cc41',\n",
       " 'd8af8bf1-d14c-4708-9796-410fdb886369',\n",
       " '9e91f0e1-69eb-4434-9742-bfe661762eab',\n",
       " 'ece91db4-c5eb-4fce-adba-339b63d9aead',\n",
       " '20bd6f3d-b0a3-4bd4-9945-41954ecd2844']"
      ]
     },
     "execution_count": 119,
     "metadata": {},
     "output_type": "execute_result"
    }
   ],
   "source": [
    "# Prepare documents list\n",
    "documents = [Document(page_content=row[\"Techstack\"], metadata={\"links\": row[\"Links\"]}) for _, row in df.iterrows()]\n",
    "\n",
    "# Prepare ids list\n",
    "ids = [str(uuid4()) for _ in range(len(documents))]\n",
    "\n",
    "# Add documents to the vector store\n",
    "vector_store.add_documents(\n",
    "    documents=documents,\n",
    "    ids=ids\n",
    ")"
   ]
  },
  {
   "cell_type": "code",
   "execution_count": 110,
   "metadata": {},
   "outputs": [],
   "source": [
    "job=json_res\n"
   ]
  },
  {
   "cell_type": "code",
   "execution_count": 120,
   "metadata": {},
   "outputs": [],
   "source": [
    "showw=embeddings.aembed_query(job['Skills'])"
   ]
  },
  {
   "cell_type": "code",
   "execution_count": 121,
   "metadata": {},
   "outputs": [
    {
     "data": {
      "text/plain": [
       "[Document(metadata={'links': 'https://example.com/react-portfolio'}, page_content='React, Node.js, MongoDB'),\n",
       " Document(metadata={'links': 'https://example.com/xamarin-portfolio'}, page_content='Cross-platform, Xamarin, Azure'),\n",
       " Document(metadata={'links': 'https://example.com/devops-portfolio'}, page_content='DevOps, Jenkins, Docker')]"
      ]
     },
     "execution_count": 121,
     "metadata": {},
     "output_type": "execute_result"
    }
   ],
   "source": [
    "retriever = vector_store.as_retriever(\n",
    "    search_type=\"similarity_score_threshold\",\n",
    "    search_kwargs={\"k\": 3, \"score_threshold\": 0.5},\n",
    ")\n",
    "links=retriever.invoke(showw, filter={\"source\": \"Links\"})\n",
    "links"
   ]
  },
  {
   "cell_type": "markdown",
   "metadata": {},
   "source": [
    "# ELASTIC SEARCH"
   ]
  },
  {
   "cell_type": "code",
   "execution_count": 128,
   "metadata": {},
   "outputs": [],
   "source": [
    "from langchain_elasticsearch import ElasticsearchStore\n",
    "elastic_vector_search = ElasticsearchStore(\n",
    "    es_cloud_id=\"<ur id>\",\n",
    "    index_name=\"test_index\",\n",
    "    embedding=embeddings,\n",
    "    es_user=\"elastic\",\n",
    "    es_password=\"<ur password>\",\n",
    ")\n",
    "\n",
    "# elastic_vector_search = ElasticsearchStore(\n",
    "#     es_url=\"http://localhost:8200\",\n",
    "#     es_api_key=\"\",\n",
    "#     index_name=\"\",\n",
    "#     embedding=embeddings,\n",
    "#     es_user=\"elastic\",\n",
    "#     es_password=\"\",\n",
    "# )"
   ]
  },
  {
   "cell_type": "code",
   "execution_count": 129,
   "metadata": {},
   "outputs": [
    {
     "data": {
      "text/plain": [
       "['804c12ce-14a6-46cf-8331-0cd152756851',\n",
       " '8b96a6a6-3def-4fca-8031-6c790e4b6835',\n",
       " 'a9abe10d-74ab-4b66-9080-ad8d198be6e0',\n",
       " '588afc6d-d4c4-4503-944e-c331945a126c',\n",
       " 'bdbf2b18-90b2-48b2-b79c-3a0f1fc0cf0e',\n",
       " 'bec1c312-8ccf-4766-bad2-eedeb50aa687',\n",
       " '6c9a0158-df43-4afa-959e-0b63a78b0bff',\n",
       " '5763fc7c-c991-43ef-9f07-c8b407c994e2',\n",
       " '97b5ecca-d0d7-47c5-b506-adfcd069b11e',\n",
       " '137039ba-3288-409c-aba7-7ea1b6ee8e1e',\n",
       " 'ca2c6485-670c-400a-b3fa-047862f53b95',\n",
       " '9de5ebdd-b446-4123-bf23-1c8302337c8e',\n",
       " '13ed8786-94fa-400e-894f-5e80ee0e70dd',\n",
       " 'ee872168-f1b4-4e55-a08c-d920362a4cbe',\n",
       " '556f93fd-88d8-4990-8044-09655e0624f0',\n",
       " '307b9e1f-f288-41a6-b8a6-ec2a155cfb0a',\n",
       " '9853a0b3-a6d1-4c52-b1f6-ac7598384d6c',\n",
       " '1ed2cfce-38c1-41df-a3d8-50f74a007c32',\n",
       " 'a1906f0d-f20c-4ee7-8d04-3ca0c766b7d5',\n",
       " '697a4ac6-6d38-4a6c-adf3-6da61953ffc5']"
      ]
     },
     "execution_count": 129,
     "metadata": {},
     "output_type": "execute_result"
    }
   ],
   "source": [
    "documents = [Document(page_content=row[\"Techstack\"], metadata={\"links\": row[\"Links\"]}) for _, row in df.iterrows()]\n",
    "\n",
    "# Prepare ids list\n",
    "ids = [str(uuid4()) for _ in range(len(documents))]\n",
    "\n",
    "# Add documents to the vector store\n",
    "elastic_vector_search.add_documents(\n",
    "    documents=documents,\n",
    "    ids=ids\n",
    ")"
   ]
  },
  {
   "cell_type": "code",
   "execution_count": 131,
   "metadata": {},
   "outputs": [
    {
     "data": {
      "text/plain": [
       "['Python', 'Django', 'Flask']"
      ]
     },
     "execution_count": 131,
     "metadata": {},
     "output_type": "execute_result"
    }
   ],
   "source": [
    "job['Skills']"
   ]
  },
  {
   "cell_type": "code",
   "execution_count": 142,
   "metadata": {},
   "outputs": [
    {
     "data": {
      "text/plain": [
       "dict"
      ]
     },
     "execution_count": 142,
     "metadata": {},
     "output_type": "execute_result"
    }
   ],
   "source": [
    "type(job)"
   ]
  },
  {
   "cell_type": "markdown",
   "metadata": {},
   "source": [
    "# COLD EMAIL GENERATION USING ELASTIC SEARCH"
   ]
  },
  {
   "cell_type": "code",
   "execution_count": 156,
   "metadata": {},
   "outputs": [],
   "source": [
    "query=embeddings.embed_query(job['Skills'])"
   ]
  },
  {
   "cell_type": "code",
   "execution_count": 160,
   "metadata": {},
   "outputs": [
    {
     "data": {
      "text/plain": [
       "[Document(metadata={'links': 'https://example.com/java-portfolio'}, page_content='Java, Spring Boot, Oracle'),\n",
       " Document(metadata={'links': 'https://example.com/ml-python-portfolio'}, page_content='Machine Learning, Python, TensorFlow'),\n",
       " Document(metadata={'links': 'https://example.com/ios-ar-portfolio'}, page_content='iOS, Swift, ARKit'),\n",
       " Document(metadata={'links': 'https://example.com/kotlin-android-portfolio'}, page_content='Kotlin, Android, Firebase')]"
      ]
     },
     "execution_count": 160,
     "metadata": {},
     "output_type": "execute_result"
    }
   ],
   "source": [
    "retriever = elastic_vector_search.as_retriever(\n",
    "    search_type=\"similarity_score_threshold\", search_kwargs={\"score_threshold\": 0.5}\n",
    ")\n",
    "links=retriever.invoke(job['Skills'])\n",
    "links"
   ]
  },
  {
   "cell_type": "code",
   "execution_count": 163,
   "metadata": {},
   "outputs": [
    {
     "name": "stdout",
     "output_type": "stream",
     "text": [
      "Subject: Expert Python Development Solutions for Your Business\n",
      "\n",
      "Dear [Recipient],\n",
      "\n",
      "I came across your job posting for a Senior Software Engineer with expertise in Python and its frameworks, and I wanted to introduce you to CompanyAlasks, a leading AI & Software Consulting company. Our team of experts has a proven track record of delivering tailored solutions that drive business growth, scalability, and efficiency.\n",
      "\n",
      "At CompanyAlasks, we have a strong background in developing efficient, reusable code using Python, with experience in frameworks like Django and Flask. Our team is well-versed in the Python ecosystem and has a deep understanding of its capabilities. We would be delighted to leverage our expertise to help you achieve your project goals.\n",
      "\n",
      "To give you a glimpse into our capabilities, I'd like to share some of our recent projects:\n",
      "\n",
      "* **Machine Learning and Python**: We have successfully developed machine learning models using Python and TensorFlow, helping clients make data-driven decisions and improve their business outcomes. [https://example.com/ml-python-portfolio]\n",
      "* **Java and Spring Boot**: Our team has extensive experience in developing scalable and efficient Java applications using Spring Boot, with a focus on Oracle integration. [https://example.com/java-portfolio]\n",
      "* **iOS and ARKit**: We have a strong portfolio in developing innovative iOS applications using Swift and ARKit, enabling clients to create immersive experiences. [https://example.com/ios-ar-portfolio]\n",
      "* **Kotlin and Android**: Our team has expertise in developing robust Android applications using Kotlin and Firebase, with a focus on cost-effective solutions. [https://example.com/kotlin-android-portfolio]\n",
      "\n",
      "If you're looking for a partner to help you develop and maintain efficient, reusable code using Python, I'd be happy to discuss how CompanyAlasks can support your project. Please feel free to reach out to me directly to schedule a call.\n",
      "\n",
      "Best regards,\n",
      "\n",
      "XYZ\n",
      "Business Development Executive\n",
      "CompanyAlasks\n"
     ]
    }
   ],
   "source": [
    "prompt_email = ChatPromptTemplate.from_template(\n",
    "        \"\"\"\n",
    "        ### JOB DESCRIPTION:\n",
    "        {job_description}\n",
    "        \n",
    "        ### INSTRUCTION:\n",
    "        You are XYZ, a business development executive at CompanyAlasks. CompanyAlasks is an AI & Software Consulting company dedicated to facilitating\n",
    "        the seamless integration of business processes through automated tools. \n",
    "        Over our experience, we have empowered numerous enterprises with tailored solutions, fostering scalability, \n",
    "        process optimization, cost reduction, and heightened overall efficiency. \n",
    "        Your job is to write a cold email to the client regarding the job mentioned above describing the capability of CompanyAlasks \n",
    "        in fulfilling their needs.\n",
    "        Also add the most relevant ones from the following links to showcase all portfolios: {link_list} in structured format.\n",
    "        Remember you are XYZ, BDE at CompanyAlasks. \n",
    "        Do not provide a preamble.\n",
    "        ### EMAIL (NO PREAMBLE):\n",
    "        \n",
    "        \"\"\"\n",
    "        )\n",
    "\n",
    "chain_email = prompt_email | llm\n",
    "res = chain_email.invoke({\"job_description\": str(job), \"link_list\": links})\n",
    "print(res.content)"
   ]
  },
  {
   "cell_type": "markdown",
   "metadata": {},
   "source": [
    "# COLD EMAIL GENERATION USING ASTRADB"
   ]
  },
  {
   "cell_type": "code",
   "execution_count": 143,
   "metadata": {},
   "outputs": [
    {
     "data": {
      "text/plain": [
       "[Document(metadata={'links': 'https://example.com/ml-python-portfolio'}, page_content='Machine Learning, Python, TensorFlow'),\n",
       " Document(metadata={'links': 'https://example.com/java-portfolio'}, page_content='Java, Spring Boot, Oracle'),\n",
       " Document(metadata={'links': 'https://example.com/kotlin-backend-portfolio'}, page_content='Backend, Kotlin, Spring Boot'),\n",
       " Document(metadata={'links': 'https://example.com/devops-portfolio'}, page_content='DevOps, Jenkins, Docker')]"
      ]
     },
     "execution_count": 143,
     "metadata": {},
     "output_type": "execute_result"
    }
   ],
   "source": [
    "retriever = vector_store.as_retriever(\n",
    "    search_type=\"similarity_score_threshold\", search_kwargs={\"score_threshold\": 0.5}\n",
    ")\n",
    "retriever.invoke(job['Skills'])"
   ]
  },
  {
   "cell_type": "code",
   "execution_count": 148,
   "metadata": {},
   "outputs": [
    {
     "name": "stdout",
     "output_type": "stream",
     "text": [
      "Subject: Expert Python Development Solutions for Your Business\n",
      "\n",
      "Dear [Recipient],\n",
      "\n",
      "I came across your job posting for a Senior Software Engineer with expertise in Python and its frameworks, and I wanted to introduce you to CompanyAlasks, a leading AI & Software Consulting company. Our team of experts has a proven track record of delivering tailored solutions that drive business growth, scalability, and efficiency.\n",
      "\n",
      "At CompanyAlasks, we have a strong background in developing efficient, reusable code using Python, with experience in frameworks like Django and Flask. Our team is well-versed in the Python ecosystem and has a deep understanding of its capabilities. We would be delighted to leverage our expertise to help you achieve your project goals.\n",
      "\n",
      "I'd like to highlight some of our notable projects that demonstrate our capabilities:\n",
      "\n",
      "* [Document(metadata={'links': 'https://example.com/react-portfolio'}, page_content='React, Node.js, MongoDB')]: We have successfully developed scalable and efficient applications using React, Node.js, and MongoDB.\n",
      "* [Document(metadata={'links': 'https://example.com/xamarin-portfolio'}, page_content='Cross-platform, Xamarin, Azure')]: Our team has expertise in developing cross-platform applications using Xamarin and Azure.\n",
      "* [Document(metadata={'links': 'https://example.com/devops-portfolio'}, page_content='DevOps, Jenkins, Docker')]: We have experience in implementing DevOps practices using Jenkins, Docker, and other tools to streamline our development processes.\n",
      "\n",
      "If you're looking for a partner to help you develop and maintain efficient, reusable code using Python, I'd be happy to discuss how CompanyAlasks can support your project. Please feel free to reach out to me directly to schedule a call.\n",
      "\n",
      "Best regards,\n",
      "\n",
      "XYZ\n",
      "Business Development Executive\n",
      "CompanyAlasks\n"
     ]
    }
   ],
   "source": [
    "prompt_email = ChatPromptTemplate.from_template(\n",
    "        \"\"\"\n",
    "        ### JOB DESCRIPTION:\n",
    "        {job_description}\n",
    "        \n",
    "        ### INSTRUCTION:\n",
    "        You are XYZ, a business development executive at CompanyAlasks. CompanyAlasks is an AI & Software Consulting company dedicated to facilitating\n",
    "        the seamless integration of business processes through automated tools. \n",
    "        Over our experience, we have empowered numerous enterprises with tailored solutions, fostering scalability, \n",
    "        process optimization, cost reduction, and heightened overall efficiency. \n",
    "        Your job is to write a cold email to the client regarding the job mentioned above describing the capability of CompanyAlasks \n",
    "        in fulfilling their needs.\n",
    "        Also add the most relevant ones from the following links to showcase all portfolios: {link_list} in a structured format.\n",
    "        Remember you are XYZ, BDE at CompanyAlasks. \n",
    "        Do not provide a preamble.\n",
    "        ### EMAIL (NO PREAMBLE):\n",
    "        \n",
    "        \"\"\"\n",
    "        )\n",
    "\n",
    "chain_email = prompt_email | llm\n",
    "res = chain_email.invoke({\"job_description\": str(job), \"link_list\": links})\n",
    "print(res.content)"
   ]
  },
  {
   "cell_type": "markdown",
   "metadata": {},
   "source": []
  }
 ],
 "metadata": {
  "kernelspec": {
   "display_name": "venv",
   "language": "python",
   "name": "python3"
  },
  "language_info": {
   "codemirror_mode": {
    "name": "ipython",
    "version": 3
   },
   "file_extension": ".py",
   "mimetype": "text/x-python",
   "name": "python",
   "nbconvert_exporter": "python",
   "pygments_lexer": "ipython3",
   "version": "3.12.0"
  }
 },
 "nbformat": 4,
 "nbformat_minor": 2
}
